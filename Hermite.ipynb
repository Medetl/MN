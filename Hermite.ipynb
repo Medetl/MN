{
 "cells": [
  {
   "cell_type": "code",
   "execution_count": 1,
   "id": "386da3d1",
   "metadata": {},
   "outputs": [],
   "source": [
    "import numpy as np"
   ]
  },
  {
   "cell_type": "code",
   "execution_count": 2,
   "id": "4e7bdee8",
   "metadata": {},
   "outputs": [],
   "source": [
    "#Definimos las funciones\n",
    "def hermite_interpolation(x, f, f_prime):\n",
    "    n = len(x)\n",
    "    z = np.zeros(2 * n)\n",
    "    Q = np.zeros((2 * n, 2 * n))\n",
    "\n",
    "#Inicializar z y Q\n",
    "    for i in range(n):\n",
    "        z[2 * i] = x[i]\n",
    "        z[2 * i + 1] = x[i]\n",
    "        Q[2 * i][0] = f[i]\n",
    "        Q[2 * i + 1][0] = f[i]\n",
    "        Q[2 * i + 1][1] = f_prime[i]\n",
    "        if i != 0:\n",
    "            Q[2 * i][1] = (Q[2 * i][0] - Q[2 * i - 1][0]) / (z[2 * i] - z[2 * i - 1])\n",
    "\n",
    "#Calcular las diferencias divididas\n",
    "    for i in range(2, 2 * n):\n",
    "        for j in range(2, i + 1):\n",
    "            Q[i][j] = (Q[i][j - 1] - Q[i - 1][j - 1]) / (z[i] - z[i - j])\n",
    "\n",
    "#Devolvemos los coeficientes de Q\n",
    "    return z, Q\n",
    "\n",
    "def evaluate_polynomial(z, Q, x_value):\n",
    "    n = len(z)\n",
    "    result = Q[0][0]\n",
    "    product = 1.0\n",
    "    for i in range(1, n):\n",
    "        product *= (x_value - z[i - 1])\n",
    "        result += Q[i][i] * product\n",
    "    return result"
   ]
  },
  {
   "cell_type": "code",
   "execution_count": 4,
   "id": "1aaa2fa6",
   "metadata": {},
   "outputs": [
    {
     "name": "stdout",
     "output_type": "stream",
     "text": [
      "z: [1.3 1.3 1.6 1.6 1.9 1.9]\n",
      "Tabla Q:\n",
      "[[ 0.620086    0.          0.          0.          0.          0.        ]\n",
      " [ 0.620086   -0.5220232   0.          0.          0.          0.        ]\n",
      " [ 0.4554022  -0.548946   -0.08974267  0.          0.          0.        ]\n",
      " [ 0.4554022  -0.5698959  -0.069833    0.06636556  0.          0.        ]\n",
      " [ 0.2818186  -0.578612   -0.02905367  0.06796556  0.00266667  0.        ]\n",
      " [ 0.2818186  -0.5811571  -0.00848367  0.06856667  0.00100185 -0.00277469]]\n",
      "El valor aproximado de f(1.5) es 0.5118277017283951\n"
     ]
    }
   ],
   "source": [
    "# Datos de la tabla\n",
    "x = [1.3, 1.6, 1.9]\n",
    "f = [0.6200860, 0.4554022, 0.2818186]\n",
    "f_prime = [-0.5220232, -0.5698959, -0.5811571]\n",
    "\n",
    "# Calcular el polinomio de Hermite\n",
    "z, Q = hermite_interpolation(x, f, f_prime)\n",
    "\n",
    "# Evaluar el polinomio en x = 1.5\n",
    "x_value = 1.5\n",
    "approximation = evaluate_polynomial(z, Q, x_value)\n",
    "\n",
    "# Resultados\n",
    "print(\"z:\", z)\n",
    "print(\"Tabla Q:\")\n",
    "print(Q)\n",
    "print(f\"El valor aproximado de f({x_value}) es {approximation}\")"
   ]
  },
  {
   "cell_type": "code",
   "execution_count": null,
   "id": "9e9d4a5f",
   "metadata": {},
   "outputs": [],
   "source": []
  }
 ],
 "metadata": {
  "kernelspec": {
   "display_name": "Python 3 (ipykernel)",
   "language": "python",
   "name": "python3"
  },
  "language_info": {
   "codemirror_mode": {
    "name": "ipython",
    "version": 3
   },
   "file_extension": ".py",
   "mimetype": "text/x-python",
   "name": "python",
   "nbconvert_exporter": "python",
   "pygments_lexer": "ipython3",
   "version": "3.7.3"
  }
 },
 "nbformat": 4,
 "nbformat_minor": 5
}
