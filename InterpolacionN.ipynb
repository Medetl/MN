{
 "cells": [
  {
   "cell_type": "code",
   "execution_count": 20,
   "id": "9d47ee1c",
   "metadata": {},
   "outputs": [],
   "source": [
    "import numpy as np\n",
    "import matplotlib.pyplot as plt\n",
    "import scipy.special as sp\n",
    "import sympy as sy"
   ]
  },
  {
   "cell_type": "code",
   "execution_count": 2,
   "id": "6757e44d",
   "metadata": {},
   "outputs": [],
   "source": [
    "def compare(delta):                             # Esta funcion indica si un arreglo está confomado por puros ceros.\n",
    "    size = np.shape(delta)\n",
    "    return (delta == np.zeros(size)).all()"
   ]
  },
  {
   "cell_type": "code",
   "execution_count": 7,
   "id": "4e66eb15",
   "metadata": {},
   "outputs": [],
   "source": [
    "delta=np.array([-5,1,9,25,55,105])"
   ]
  },
  {
   "cell_type": "code",
   "execution_count": 8,
   "id": "ef7dcafb",
   "metadata": {},
   "outputs": [
    {
     "data": {
      "text/plain": [
       "False"
      ]
     },
     "execution_count": 8,
     "metadata": {},
     "output_type": "execute_result"
    }
   ],
   "source": [
    "compare(delta)"
   ]
  },
  {
   "cell_type": "code",
   "execution_count": 10,
   "id": "989802ab",
   "metadata": {},
   "outputs": [],
   "source": [
    "def degree(delta):                             # Devuelve el grado de las ultimas diferencias distintas de cero.\n",
    "    size_i=np.shape(delta)[0]\n",
    "    while(compare(delta)==False):\n",
    "        delta=np.diff(delta)\n",
    "    size_f=size_i - np.shape(delta)[0]\n",
    "    return size_f - 1"
   ]
  },
  {
   "cell_type": "code",
   "execution_count": 15,
   "id": "6bf17d85",
   "metadata": {},
   "outputs": [],
   "source": [
    "g=degree(delta)"
   ]
  },
  {
   "cell_type": "code",
   "execution_count": 16,
   "id": "614ac6c6",
   "metadata": {},
   "outputs": [
    {
     "data": {
      "text/plain": [
       "3"
      ]
     },
     "execution_count": 16,
     "metadata": {},
     "output_type": "execute_result"
    }
   ],
   "source": [
    "g"
   ]
  },
  {
   "cell_type": "code",
   "execution_count": 6,
   "id": "5297b102",
   "metadata": {},
   "outputs": [],
   "source": [
    "h=1"
   ]
  },
  {
   "cell_type": "code",
   "execution_count": 17,
   "id": "1b65212e",
   "metadata": {},
   "outputs": [
    {
     "data": {
      "text/plain": [
       "0.0625"
      ]
     },
     "execution_count": 17,
     "metadata": {},
     "output_type": "execute_result"
    }
   ],
   "source": [
    "sp.binom(0.5, g)"
   ]
  },
  {
   "cell_type": "code",
   "execution_count": 22,
   "id": "7265f055",
   "metadata": {},
   "outputs": [],
   "source": [
    "x = sy.Symbol('x')"
   ]
  },
  {
   "cell_type": "code",
   "execution_count": 19,
   "id": "fe145809",
   "metadata": {},
   "outputs": [
    {
     "name": "stdout",
     "output_type": "stream",
     "text": [
      "6\n",
      "2\n",
      "6\n"
     ]
    }
   ],
   "source": [
    "for i in range(g):\n",
    "    delta = np.diff(delta)\n",
    "    coeficiente = \n",
    "    print(delta[0])"
   ]
  },
  {
   "cell_type": "code",
   "execution_count": null,
   "id": "c05ecd89",
   "metadata": {},
   "outputs": [],
   "source": []
  }
 ],
 "metadata": {
  "kernelspec": {
   "display_name": "Python 3 (ipykernel)",
   "language": "python",
   "name": "python3"
  },
  "language_info": {
   "codemirror_mode": {
    "name": "ipython",
    "version": 3
   },
   "file_extension": ".py",
   "mimetype": "text/x-python",
   "name": "python",
   "nbconvert_exporter": "python",
   "pygments_lexer": "ipython3",
   "version": "3.7.3"
  }
 },
 "nbformat": 4,
 "nbformat_minor": 5
}
